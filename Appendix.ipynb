{
 "cells": [
  {
   "cell_type": "markdown",
   "metadata": {},
   "source": [
    "# 0. Prelude"
   ]
  },
  {
   "cell_type": "markdown",
   "metadata": {},
   "source": [
    "## 0.1. Install and Import Packages"
   ]
  },
  {
   "cell_type": "code",
   "execution_count": null,
   "metadata": {},
   "outputs": [],
   "source": [
    "# Install Required Packages\n",
    "%pip install -r requirements.txt"
   ]
  },
  {
   "cell_type": "code",
   "execution_count": 48,
   "metadata": {},
   "outputs": [],
   "source": [
    "# Zip File Download and Extraction\n",
    "from io import BytesIO\n",
    "from urllib.request import urlopen\n",
    "from zipfile import ZipFile\n",
    "\n",
    "# Census Data Extraction\n",
    "from census import Census\n",
    "import pandas as pd\n",
    "\n",
    "# GeoTif file extraction\n",
    "import geopandas as gpd\n",
    "from shapely import Point\n",
    "import rioxarray\n",
    "\n",
    "#Utilize .env file for api key(s)\n",
    "from dotenv import dotenv_values\n",
    "import os\n"
   ]
  },
  {
   "cell_type": "markdown",
   "metadata": {},
   "source": [
    "## 0.2. Files and URL Register"
   ]
  },
  {
   "cell_type": "code",
   "execution_count": 50,
   "metadata": {},
   "outputs": [],
   "source": [
    "# File locations for windows file system.\n",
    "\n",
    "transit_routes_url = 'https://seshat.datasd.org/gis_transit_routes/transit_routes_datasd.zip'\n",
    "transit_stops_url = 'https://seshat.datasd.org/gis_transit_stops/transit_stops_datasd.zip'\n",
    "california_tracts_url = 'https://www2.census.gov/geo/tiger/TIGER2021/TRACT/tl_2021_06_tract.zip'\n",
    "us_counties_url = 'https://www2.census.gov/geo/tiger/TIGER2021/COUNTY/tl_2021_us_county.zip'\n",
    "HRPD_url = 'https://data.humdata.org/dataset/eec3a01f-5237-4896-8059-a6be193ca964/resource/58b480a3-afbd-4d1e-bd9f-5ef480bffb61/download/population_usa28_-120_2019-07-01.tif.zip'\n",
    "\n",
    "transit_routes_file = \".\\\\Data\\\\transit_routes\\\\\"\n",
    "transit_stops_file = \".\\\\Data\\\\transit_stops\\\\\"\n",
    "california_tracts_file = \".\\\\Data\\\\california_tracts\\\\\"\n",
    "us_counties_file = \".\\\\Data\\\\us_counties\\\\\"\n",
    "HRPD_file = '.\\\\Data\\\\HRPD\\\\'\n",
    "\n",
    "transit_stops_file_name = 'transit_stops_datasd.shp'\n",
    "california_tracts_file_name = 'tl_2021_06_tract.shp'\n",
    "us_counties_file_name = 'tl_2021_us_county.shp'\n",
    "HRPD_file_name = 'population_usa28_-120_2019-07-01.tif'\n",
    "HRPD_sd_shp_file_name = 'HRPD_sd.shp'\n",
    "\n",
    "census_file_name = '.\\\\Data\\\\census_data.csv'"
   ]
  },
  {
   "cell_type": "markdown",
   "metadata": {},
   "source": [
    "## Loading Census API Key from .env File"
   ]
  },
  {
   "cell_type": "code",
   "execution_count": 100,
   "metadata": {},
   "outputs": [],
   "source": [
    "env_path = f\"{os.getcwd()}\\\\.env\"\n",
    "config = dotenv_values(env_path)\n",
    "\n",
    "census_api_key = config[\"census_api_key\"]\n",
    "\n",
    "#Census object to be used later\n",
    "c = Census(\n",
    "            census_api_key,\n",
    "            year=2021)"
   ]
  },
  {
   "cell_type": "markdown",
   "metadata": {},
   "source": [
    "## 0.3. Load Local Datasets"
   ]
  },
  {
   "cell_type": "code",
   "execution_count": 52,
   "metadata": {},
   "outputs": [],
   "source": [
    "# Only need to run Data Collection and Transformation once.\n",
    "# after that run this chunk to load the data, so you dont \n",
    "# have to redownload and reprocess the data.\n",
    "\n",
    "# This code chunck will be Placed lower in the final verison.\n",
    "\n",
    "county_df = gpd\\\n",
    "    .read_file(us_counties_file + us_counties_file_name)\\\n",
    "    .to_crs(\"EPSG:4326\")\n",
    "county_df = county_df.loc[county_df['NAME']== 'San Diego',]\n",
    "\n",
    "tract_df = gpd\\\n",
    "    .read_file(california_tracts_file + california_tracts_file_name)\\\n",
    "    .to_crs(\"EPSG:4326\")\n",
    "tract_df = tract_df.loc[tract_df['COUNTYFP']== '073',]"
   ]
  },
  {
   "cell_type": "markdown",
   "metadata": {},
   "source": [
    "# 1. Data Collection and Transformation"
   ]
  },
  {
   "cell_type": "markdown",
   "metadata": {},
   "source": [
    "## 1.1. Download & Unzip shape and raster files."
   ]
  },
  {
   "cell_type": "code",
   "execution_count": 53,
   "metadata": {},
   "outputs": [],
   "source": [
    "def download_unzip(file_url,file_location):\n",
    "    with urlopen(file_url) as zipresp:\n",
    "        with ZipFile(BytesIO(zipresp.read())) as zfile:\n",
    "            zfile.extractall(file_location)\n",
    "\n",
    "download_unzip(transit_routes_url,transit_routes_file)\n",
    "download_unzip(transit_stops_url,transit_stops_file)\n",
    "download_unzip(california_tracts_url,california_tracts_file)\n",
    "download_unzip(us_counties_url,us_counties_file)\n",
    "download_unzip(HRPD_url,HRPD_file)"
   ]
  },
  {
   "cell_type": "markdown",
   "metadata": {},
   "source": [
    "## 1.2. Create Census Data Table"
   ]
  },
  {
   "cell_type": "code",
   "execution_count": null,
   "metadata": {},
   "outputs": [],
   "source": [
    "name_list = ['Total'\n",
    "             , 'Less than 5 mins'\n",
    "             , '5 to 10 Mins'\n",
    "             , '10 to 15 Mins'\n",
    "             , '15 to 20 Mins'\n",
    "             , '20 to 25 Mins'\n",
    "             , '25 to 30 Mins'\n",
    "             , '30 to 35 Mins'\n",
    "             , '35 to 40 Mins'\n",
    "             , '40 to 45 Mins'\n",
    "             , '45 to 60 Mins'\n",
    "             , '60 to 90 Mins'\n",
    "             , 'More than 90 Mins'\n",
    "             , 'Total Population'\n",
    "             ]\n",
    "\n",
    "key_list = ['B08303_0'+str(i).zfill(2)+'E' for i in range(1, len(name_list))]\n",
    "key_list += [\n",
    "    'B01003_001E',\n",
    "    \n",
    "\n",
    "]\n",
    "key_list"
   ]
  },
  {
   "cell_type": "code",
   "execution_count": 74,
   "metadata": {},
   "outputs": [],
   "source": [
    "#See https://api.census.gov/data/2021/acs/acs5/groups/B08303.html for available fields\n",
    "socio_eco_census = c.acs5.state_county_tract(\n",
    "    \n",
    "    state_fips = \"06\",      # California\n",
    "    county_fips = \"073\",    # San Diego\n",
    "    tract = \"*\",            # All tracts\n",
    "    fields = key_list       # All Estimate Fields in Coummute survery table., Population\n",
    ")"
   ]
  },
  {
   "cell_type": "code",
   "execution_count": 75,
   "metadata": {},
   "outputs": [],
   "source": [
    "census_df = pd.DataFrame(socio_eco_census)"
   ]
  },
  {
   "cell_type": "markdown",
   "metadata": {},
   "source": [
    "### 1.2.1. Rename Columns to appropriate title"
   ]
  },
  {
   "cell_type": "code",
   "execution_count": null,
   "metadata": {},
   "outputs": [],
   "source": [
    "column_rename = {key_list[i]: name_list[i] for i in range(0,len(key_list))}\n",
    "\n",
    "census_df = census_df.rename(columns=column_rename)\n",
    "\n",
    "census_df"
   ]
  },
  {
   "cell_type": "markdown",
   "metadata": {},
   "source": [
    "### 1.2.2. Remove trivial columns and rows."
   ]
  },
  {
   "cell_type": "code",
   "execution_count": 77,
   "metadata": {},
   "outputs": [],
   "source": [
    "census_df = census_df.drop(columns=['state','county'], index=[736])"
   ]
  },
  {
   "cell_type": "markdown",
   "metadata": {},
   "source": [
    "### 1.2.3. Add Mean Time Column"
   ]
  },
  {
   "cell_type": "code",
   "execution_count": 78,
   "metadata": {},
   "outputs": [],
   "source": [
    "commute_mean_time = [0 for x in range(736)]\n",
    "for i in range(1,10):\n",
    "    commute_mean_time = commute_mean_time + \\\n",
    "        census_df[name_list[i]]*(2.5+(i-1)*5)\n",
    "\n",
    "commute_mean_time = commute_mean_time +  census_df[name_list[10]]*52.75\n",
    "commute_mean_time = commute_mean_time +  census_df[name_list[11]]*75\n",
    "commute_mean_time = commute_mean_time/census_df['Total']\n",
    "\n",
    "# Ignoring 90 mins for now.\n",
    "# commute_mean_time.mean()\n",
    "\n",
    "census_df['Mean Time'] = commute_mean_time"
   ]
  },
  {
   "cell_type": "markdown",
   "metadata": {},
   "source": [
    "### 1.2.4. Save Dataframe to CSV file"
   ]
  },
  {
   "cell_type": "code",
   "execution_count": null,
   "metadata": {},
   "outputs": [],
   "source": [
    "census_df.to_csv(census_file_name,index=False)\n",
    "census_df"
   ]
  },
  {
   "cell_type": "markdown",
   "metadata": {},
   "source": [
    "## 1.3. Convert HRPD Raster Data to Shapefile"
   ]
  },
  {
   "cell_type": "code",
   "execution_count": 93,
   "metadata": {},
   "outputs": [],
   "source": [
    "san_deigo_polygon = county_df.loc[539,'geometry']\n",
    "\n",
    "# Takes some Time (35sec on desktop)\n",
    "HRPD_tif = rioxarray.open_rasterio(HRPD_file + HRPD_file_name, cache = False)\n",
    "HRPD_sd_tif = HRPD_tif.rio.clip([san_deigo_polygon])\n",
    "HRPD_tif = HRPD_sd_tif.rio.reproject(\"EPSG:4326\", cache = False)\n"
   ]
  },
  {
   "cell_type": "code",
   "execution_count": 94,
   "metadata": {},
   "outputs": [],
   "source": [
    "HRPD_sd_df = HRPD_sd_tif[0].to_dataframe('Population').dropna()\n",
    "\n",
    "# Takes some Time (10sec on desktop)\n",
    "HRPD_sd_df['geometry'] = [Point(index[1],index[0]) for index,row in HRPD_sd_df.iterrows()]\n",
    "\n",
    "HRPD_sd_df = gpd.GeoDataFrame(HRPD_sd_df['Population'],\n",
    "                              geometry = HRPD_sd_df['geometry'])\\\n",
    "                                .reset_index(drop=True)"
   ]
  },
  {
   "cell_type": "code",
   "execution_count": null,
   "metadata": {},
   "outputs": [],
   "source": [
    "# Takes some Time (25sec on desktop)\n",
    "HRPD_sd_df.to_file(HRPD_file + HRPD_sd_shp_file_name, \n",
    "                   index=False,\n",
    "                   crs='EPSG:4326')\n",
    "HRPD_sd_df"
   ]
  },
  {
   "cell_type": "markdown",
   "metadata": {},
   "source": [
    "## 1.4. Create other paramerters by processing data"
   ]
  },
  {
   "cell_type": "markdown",
   "metadata": {},
   "source": [
    "### 1.4.1. Create Pop Centers, tract Pop and Distance from Hub"
   ]
  },
  {
   "cell_type": "code",
   "execution_count": 96,
   "metadata": {},
   "outputs": [],
   "source": [
    "def pop_center(pop_table):\n",
    "    x = 0\n",
    "    y = 0\n",
    "    pop_total = 0\n",
    "    for index,row in pop_table.iterrows():\n",
    "        x += row['geometry'].x*row['Population']\n",
    "        y += row['geometry'].y*row['Population']\n",
    "        pop_total += row['Population']\n",
    "\n",
    "    return Point(x/pop_total ,y/pop_total)\n",
    "\n",
    "tract_df['tract'] = pd.to_numeric(tract_df['TRACTCE'])\n",
    "tract_df = tract_df[tract_df['tract'] != 990100]\n",
    "\n",
    "# Takes some Time (50sec on desktop)\n",
    "pop_center_list = [pop_center(HRPD_sd_df.clip(row['geometry'])) for index, row in tract_df.iterrows()]\n"
   ]
  },
  {
   "cell_type": "markdown",
   "metadata": {},
   "source": [
    "### 1.4.2. Create Stops and Route Length in Tracts"
   ]
  },
  {
   "cell_type": "code",
   "execution_count": null,
   "metadata": {},
   "outputs": [],
   "source": [
    "transit_stops_df = gpd.read_file(transit_stops_file + transit_stops_file_name).to_crs(\"EPSG:4326\")\n",
    "# Remember to Buffer the tract polygons, so the correctly include the stops around them\n",
    "transit_stops_df"
   ]
  },
  {
   "cell_type": "code",
   "execution_count": null,
   "metadata": {},
   "outputs": [],
   "source": [
    "transit_routes_df = gpd.read_file(transit_routes_file + 'transit_routes_datasd.shp').to_crs(\"EPSG:4326\")\n",
    "# Remember to Buffer the tract polygons, so the correctly include the stops around them\n",
    "transit_routes_df"
   ]
  },
  {
   "cell_type": "markdown",
   "metadata": {},
   "source": [
    "# 2. Regression Models"
   ]
  },
  {
   "cell_type": "code",
   "execution_count": null,
   "metadata": {},
   "outputs": [],
   "source": []
  },
  {
   "cell_type": "markdown",
   "metadata": {},
   "source": [
    "# 3. Scratch Code for Testing"
   ]
  },
  {
   "cell_type": "code",
   "execution_count": null,
   "metadata": {},
   "outputs": [],
   "source": [
    "#You can request an API key from https://api.census.gov/data/key_signup.html\n",
    "API_KEY = '9e94761d2b2fb214be8b88bdaeccc47b8edded35'\n",
    "\n",
    "c = Census(API_KEY,\n",
    "           year=2021)\n",
    "\n",
    "#See https://api.census.gov/data/2021/acs/acs5/groups/B08303.html for available fields\n",
    "population_census = c.acs5.state_county_tract(\n",
    "    \n",
    "    state_fips = \"06\",      # California\n",
    "    county_fips = \"073\",    # San Diego\n",
    "    tract = \"*\",            # All tracts\n",
    "    fields = 'B01003_001E', # Total Population\n",
    ")\n",
    "population_df = pd.DataFrame(population_census)\n",
    "population_df = population_df.drop(columns=['state','county'], index=[736])\n",
    "population_df = population_df.rename(columns={'B01003_001E': 'Total Population'})\n",
    "population_df"
   ]
  },
  {
   "cell_type": "code",
   "execution_count": 25,
   "metadata": {},
   "outputs": [
    {
     "data": {
      "text/plain": [
       "3296317.0"
      ]
     },
     "execution_count": 25,
     "metadata": {},
     "output_type": "execute_result"
    }
   ],
   "source": [
    "population_df['Total Population'].sum()"
   ]
  },
  {
   "cell_type": "code",
   "execution_count": 26,
   "metadata": {},
   "outputs": [
    {
     "data": {
      "text/plain": [
       "2782294.505288508"
      ]
     },
     "execution_count": 26,
     "metadata": {},
     "output_type": "execute_result"
    }
   ],
   "source": [
    "HRPD_sd_df['Population'].sum()"
   ]
  },
  {
   "cell_type": "code",
   "execution_count": 13,
   "metadata": {},
   "outputs": [],
   "source": [
    "def pop_center(pop_table):\n",
    "    x = 0\n",
    "    y = 0\n",
    "    pop_total = 0\n",
    "    for index,row in pop_table.iterrows():\n",
    "        x += row['geometry'].x*row['Population']\n",
    "        y += row['geometry'].y*row['Population']\n",
    "        pop_total += row['Population']\n",
    "\n",
    "    return Point(x/pop_total ,y/pop_total)\n",
    "\n",
    "tract_df['tract'] = pd.to_numeric(tract_df['TRACTCE'])\n",
    "tract_df = tract_df[tract_df['tract'] != 990100]\n",
    "\n",
    "# Takes some Time (50sec on desktop)\n",
    "pop_center_list = gpd.GeoSeries([pop_center(HRPD_sd_df.clip(row['geometry'])) for index, row in tract_df.iterrows()])"
   ]
  },
  {
   "cell_type": "code",
   "execution_count": null,
   "metadata": {},
   "outputs": [],
   "source": [
    "import matplotlib.colors as colors\n",
    "import matplotlib.pyplot as plt\n",
    "\n",
    "fig,ax = plt.subplots(1,1,sharex=True,sharey=True,figsize=(16,12))\n",
    "tract_df.boundary.plot(ax=ax,linewidth=0.2)\n",
    "HRPD_sd_df.plot(column='Population',\n",
    "                           ax=ax,\n",
    "                           markersize=0.01,\n",
    "                           cmap='YlGnBu',\n",
    "                           legend=True,\n",
    "                           norm=colors.LogNorm(0.0029,520)\n",
    "                           )\n",
    "transit_stops_df.plot(ax=ax,color='black',markersize=0.1)\n",
    "gpd.GeoSeries(pop_center_list).plot(ax=ax, markersize=1, color='red')\n",
    "plt.title(\"HRPD - San Diego, with pop centers\",\n",
    "          fontsize=25)"
   ]
  }
 ],
 "metadata": {
  "kernelspec": {
   "display_name": "Python 3",
   "language": "python",
   "name": "python3"
  },
  "language_info": {
   "codemirror_mode": {
    "name": "ipython",
    "version": 3
   },
   "file_extension": ".py",
   "mimetype": "text/x-python",
   "name": "python",
   "nbconvert_exporter": "python",
   "pygments_lexer": "ipython3",
   "version": "3.12.3"
  }
 },
 "nbformat": 4,
 "nbformat_minor": 2
}
