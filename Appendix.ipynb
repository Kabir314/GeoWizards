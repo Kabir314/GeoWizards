{
 "cells": [
  {
   "cell_type": "markdown",
   "metadata": {},
   "source": [
    "# Data Collection and Transformation"
   ]
  },
  {
   "cell_type": "code",
   "execution_count": 14,
   "metadata": {},
   "outputs": [],
   "source": [
    "from io import BytesIO\n",
    "from urllib.request import urlopen\n",
    "from zipfile import ZipFile\n",
    "\n",
    "\n",
    "def download_unzip(file_url,file_location):\n",
    "    with urlopen(file_url) as zipresp:\n",
    "        with ZipFile(BytesIO(zipresp.read())) as zfile:\n",
    "            zfile.extractall(file_location)\n",
    "\n",
    "\n",
    "transit_routes_url = 'https://seshat.datasd.org/gis_transit_routes/transit_routes_datasd.zip'\n",
    "transit_stops_url = 'https://seshat.datasd.org/gis_transit_stops/transit_stops_datasd.zip'\n",
    "california_tracts_url = 'https://www2.census.gov/geo/tiger/TIGER2021/TRACT/tl_2021_06_tract.zip'\n",
    "us_counties_url = 'https://www2.census.gov/geo/tiger/TIGER2021/COUNTY/tl_2021_us_county.zip'\n",
    "HRPD_url = 'https://data.humdata.org/dataset/eec3a01f-5237-4896-8059-a6be193ca964/resource/58b480a3-afbd-4d1e-bd9f-5ef480bffb61/download/population_usa28_-120_2019-07-01.tif.zip'\n",
    "\n",
    "transit_routes_file = \".\\\\Data\\\\transit_routes\\\\\"\n",
    "transit_stops_file = \".\\\\Data\\\\trainsit_stops\\\\\"\n",
    "california_tracts_file = \".\\\\Data\\\\california_tracts\\\\\"\n",
    "us_counties_file = \".\\\\Data\\\\us_counties\\\\\"\n",
    "HRPD_file = '.\\\\Data\\\\HRPD\\\\'\n",
    "\n",
    "download_unzip(transit_routes_url,transit_routes_file)\n",
    "download_unzip(transit_stops_url,transit_stops_file)\n",
    "download_unzip(california_tracts_url,california_tracts_file)\n",
    "download_unzip(us_counties_url,us_counties_file)\n",
    "download_unzip(HRPD_url,HRPD_file)"
   ]
  },
  {
   "cell_type": "code",
   "execution_count": null,
   "metadata": {},
   "outputs": [],
   "source": [
    "# from census import Census\n",
    "# import pandas as pd\n",
    "\n",
    "# API_KEY = '9e94761d2b2fb214de8b88bdaeccc47b8edded35'\n",
    "# year = 2021\n",
    "\n",
    "# state_fips = \"06\"\n",
    "# county_fips = \"073\"\n",
    "# tract = \"*\"\n",
    "# fields = []\n",
    "# #You can request an API key from https://api.census.gov/data/key_signup.html\n",
    "# c = Census(API_KEY,year)\n",
    "\n",
    "\n",
    "# commute_census = c.acs5.state_county_tract(\n",
    "#     #See https://api.census.gov/data/2021/acs/acs5/groups/B08303.html for available fields\n",
    "#     fields = ('B08303_001E'),\n",
    "#     state_fips = states.CA.fips,\n",
    "#     #Fips code for SD county\n",
    "#     county_fips = \"073\",\n",
    "#     #All census tracts\n",
    "#     tract = \"*\",\n",
    "#     #2021 is the latest year that data appears to be available\n",
    "#     year = 2021\n",
    "# )\n",
    "\n",
    "# commute_df = pd.DataFrame(commute_census)"
   ]
  },
  {
   "cell_type": "markdown",
   "metadata": {},
   "source": [
    "# Regression Models"
   ]
  },
  {
   "cell_type": "code",
   "execution_count": null,
   "metadata": {},
   "outputs": [],
   "source": []
  }
 ],
 "metadata": {
  "kernelspec": {
   "display_name": "Python 3",
   "language": "python",
   "name": "python3"
  },
  "language_info": {
   "codemirror_mode": {
    "name": "ipython",
    "version": 3
   },
   "file_extension": ".py",
   "mimetype": "text/x-python",
   "name": "python",
   "nbconvert_exporter": "python",
   "pygments_lexer": "ipython3",
   "version": "3.9.0"
  }
 },
 "nbformat": 4,
 "nbformat_minor": 2
}
